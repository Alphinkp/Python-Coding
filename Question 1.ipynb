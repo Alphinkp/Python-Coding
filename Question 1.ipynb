{
 "cells": [
  {
   "cell_type": "code",
   "execution_count": 3,
   "metadata": {},
   "outputs": [
    {
     "name": "stdout",
     "output_type": "stream",
     "text": [
      "Enter the integer number: 19005\n",
      "The reverse number is = 50091\n",
      "The sum of digits= 15\n"
     ]
    }
   ],
   "source": [
    "number = int(input(\"Enter the integer number: \"))  \n",
    "revs = 0\n",
    "sum=0\n",
    "while (number > 0):  \n",
    "    reminder = number % 10\n",
    "    revs = (revs * 10) + reminder\n",
    "    sum=sum+reminder\n",
    "    number = number // 10  \n",
    "\n",
    "print(\"The reverse number is =\",revs)\n",
    "print(\"The sum of digits=\",sum)\n",
    "\n",
    "#PTA19E005 KTU-ID"
   ]
  },
  {
   "cell_type": "code",
   "execution_count": null,
   "metadata": {},
   "outputs": [],
   "source": []
  }
 ],
 "metadata": {
  "kernelspec": {
   "display_name": "Python 3",
   "language": "python",
   "name": "python3"
  },
  "language_info": {
   "codemirror_mode": {
    "name": "ipython",
    "version": 3
   },
   "file_extension": ".py",
   "mimetype": "text/x-python",
   "name": "python",
   "nbconvert_exporter": "python",
   "pygments_lexer": "ipython3",
   "version": "3.8.3"
  }
 },
 "nbformat": 4,
 "nbformat_minor": 4
}
