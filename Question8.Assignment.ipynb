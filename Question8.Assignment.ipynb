{
 "cells": [
  {
   "cell_type": "code",
   "execution_count": 18,
   "metadata": {},
   "outputs": [
    {
     "name": "stdout",
     "output_type": "stream",
     "text": [
      "Enter a decimal number=12\n",
      "The Hexadecimal of 12 is c\n",
      "The Octal of  12  is  14\n"
     ]
    }
   ],
   "source": [
    "#Name:- Alphin Thomas\n",
    "#Roll-no:- 05\n",
    "#PTA19E005 KTU-ID\n",
    "\n",
    "#Enter a decimal number=12   The Hexadecimal of 12 is c    The Octal of  12  is  14\n",
    "\n",
    "decimal = int(input(\"Enter a decimal number=\"))\n",
    "c=decimal\n",
    "octal = 0\n",
    "ctr = 0\n",
    "temp = decimal\n",
    "hex= [0, 1, 2, 3, 4, 5, 6, 7, 8, 9, 'a', 'b', 'c', 'd', 'e', 'f']\n",
    "reverse = \"\"\n",
    "\n",
    "while(temp > 0):\n",
    "    octal =octal+((temp%8)*(10**ctr))  \n",
    "    temp = int(temp/8)          \n",
    "    ctr=ctr+ 1\n",
    "while decimal > 0:\n",
    "    remainder = decimal % 16\n",
    "    decimal =decimal- remainder\n",
    "    decimal =decimal// 16\n",
    "    reverse =reverse+ str(hex[remainder])\n",
    "\n",
    "print(\"The Hexadecimal of\",c,\"is\",reverse[::-1])      \n",
    "print(\"The Octal of \",c,\" is \",octal)"
   ]
  },
  {
   "cell_type": "code",
   "execution_count": null,
   "metadata": {},
   "outputs": [],
   "source": []
  }
 ],
 "metadata": {
  "kernelspec": {
   "display_name": "Python 3",
   "language": "python",
   "name": "python3"
  },
  "language_info": {
   "codemirror_mode": {
    "name": "ipython",
    "version": 3
   },
   "file_extension": ".py",
   "mimetype": "text/x-python",
   "name": "python",
   "nbconvert_exporter": "python",
   "pygments_lexer": "ipython3",
   "version": "3.8.3"
  }
 },
 "nbformat": 4,
 "nbformat_minor": 4
}
