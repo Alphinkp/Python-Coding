{
 "cells": [
  {
   "cell_type": "code",
   "execution_count": 34,
   "metadata": {},
   "outputs": [
    {
     "name": "stdout",
     "output_type": "stream",
     "text": [
      "Enter the String= S6GmXE*t\n",
      "The Password doesn't contain any Special Character\n"
     ]
    }
   ],
   "source": [
    "#Name:- Alphin Thomas\n",
    "#Roll-no:- 05\n",
    "#PTA19E005 KTU-ID\n",
    "\n",
    "#My Password is:-  S6GmXE*t\n",
    "\n",
    "s=input(\"Enter the String= \")\n",
    "for i in s:\n",
    "    if i==\"0\" or i==\"1\" or i==\"2\" or i==\"3\" or i==\"4\" or i==\"5\" or i==\"6\" or i==\"7\" or i==\"8\" or i==\"9\":\n",
    "        flag=1\n",
    "        break\n",
    "    else:\n",
    "        flag=0\n",
    "if flag==1:\n",
    "    flag=3\n",
    "else:\n",
    "    print(\"The Password doesn't contain any digits\")\n",
    "if((s>='a' and s<= 'z') or (s>='A' and s<='Z')):\n",
    "    flag=4\n",
    "else:\n",
    "    print(\"The Password doesn't contain any Alphabet\")\n",
    "a=len(s)\n",
    "if a>=int(8):\n",
    "    flag=5\n",
    "else:\n",
    "    print(\"The Length of the password is not Sufficient\")\n",
    "c=len(s)\n",
    "for i in range(0,c):\n",
    "    if s[0].isupper():\n",
    "        flag=6\n",
    "        \n",
    "        break\n",
    "    else:\n",
    "        print(\"The First Character of the Password must be an Upper Case\")\n",
    "        break\n",
    "for i in s:\n",
    "    if i=='@' or i=='#' or i=='$':\n",
    "        flag=2\n",
    "        break\n",
    "    else:\n",
    "        flag=8\n",
    "if flag==2:\n",
    "    flag=7\n",
    "    \n",
    "else:\n",
    "    print(\"The Password doesn't contain any Special Character\")\n",
    "    \n",
    "if flag==1 or flag==3 or flag==4 or flag==5 or flag==6 or flag==7:\n",
    "    print(\"The Password is Valid\")\n",
    "    \n",
    "\n",
    "    "
   ]
  },
  {
   "cell_type": "code",
   "execution_count": null,
   "metadata": {},
   "outputs": [],
   "source": []
  },
  {
   "cell_type": "code",
   "execution_count": null,
   "metadata": {},
   "outputs": [],
   "source": []
  },
  {
   "cell_type": "code",
   "execution_count": null,
   "metadata": {},
   "outputs": [],
   "source": []
  }
 ],
 "metadata": {
  "kernelspec": {
   "display_name": "Python 3",
   "language": "python",
   "name": "python3"
  },
  "language_info": {
   "codemirror_mode": {
    "name": "ipython",
    "version": 3
   },
   "file_extension": ".py",
   "mimetype": "text/x-python",
   "name": "python",
   "nbconvert_exporter": "python",
   "pygments_lexer": "ipython3",
   "version": "3.8.3"
  }
 },
 "nbformat": 4,
 "nbformat_minor": 4
}
