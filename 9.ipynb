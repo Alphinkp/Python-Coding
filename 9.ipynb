{
 "cells": [
  {
   "cell_type": "code",
   "execution_count": 37,
   "metadata": {
    "scrolled": true
   },
   "outputs": [
    {
     "name": "stdout",
     "output_type": "stream",
     "text": [
      "Enter the limit=6\n",
      "Enter The Number=2\n",
      "Enter The Number=3\n",
      "Enter The Number=5\n",
      "Enter The Number=6\n",
      "Enter The Number=8\n",
      "Enter The Number=9\n",
      "The square of( 2 )= 4\n",
      "The square of( 6 )= 36\n",
      "The square of( 8 )= 64\n"
     ]
    }
   ],
   "source": [
    "#Name:- Alphin Thomas\n",
    "#Roll-no:- 05\n",
    "#PTA19E005 KTU-ID The square of( 2 )= 4  The square of( 6 )= 36   The square of( 8 )= 64\n",
    "\n",
    "#input:- 2 3 5 6  8 9  \n",
    "n=int(input(\"Enter the limit=\"))\n",
    "x=[]\n",
    "for i in range(n):\n",
    "    a=int(input(\"Enter The Number=\",))\n",
    "    x.append(a)\n",
    "for i in range(n):\n",
    "    if x[i]%2==0:\n",
    "        square = lambda x: x*x\n",
    "        print(\"The square of(\",x[i],\")=\",square(x[i]))"
   ]
  },
  {
   "cell_type": "code",
   "execution_count": null,
   "metadata": {},
   "outputs": [],
   "source": []
  }
 ],
 "metadata": {
  "kernelspec": {
   "display_name": "Python 3",
   "language": "python",
   "name": "python3"
  },
  "language_info": {
   "codemirror_mode": {
    "name": "ipython",
    "version": 3
   },
   "file_extension": ".py",
   "mimetype": "text/x-python",
   "name": "python",
   "nbconvert_exporter": "python",
   "pygments_lexer": "ipython3",
   "version": "3.8.3"
  }
 },
 "nbformat": 4,
 "nbformat_minor": 4
}
