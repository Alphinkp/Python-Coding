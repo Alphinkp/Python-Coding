{
 "cells": [
  {
   "cell_type": "code",
   "execution_count": 23,
   "metadata": {},
   "outputs": [
    {
     "name": "stdout",
     "output_type": "stream",
     "text": [
      "Enter the number=19005\n",
      "Number of digits= 5\n",
      "The final value = 342090\n"
     ]
    }
   ],
   "source": [
    "#Name:- Alphin Thomas\n",
    "#Roll-no:- 05\n",
    "#PTA19E005 KTU-ID\n",
    "\n",
    "#Date=18\n",
    "#Output:-  Number of digits= 5   The final value = 342090\n",
    "\n",
    "\n",
    "\n",
    "x=int(input(\"Enter the number=\"))\n",
    "def cout(x):\n",
    "    if x==0:\n",
    "        return 0\n",
    "    else:\n",
    "        return 1+cout(x//10)\n",
    "print(\"Number of digits=\",cout(x))\n",
    "c=18*19005\n",
    "print(\"The final value =\",c)"
   ]
  },
  {
   "cell_type": "code",
   "execution_count": null,
   "metadata": {},
   "outputs": [],
   "source": []
  },
  {
   "cell_type": "code",
   "execution_count": null,
   "metadata": {},
   "outputs": [],
   "source": []
  }
 ],
 "metadata": {
  "kernelspec": {
   "display_name": "Python 3",
   "language": "python",
   "name": "python3"
  },
  "language_info": {
   "codemirror_mode": {
    "name": "ipython",
    "version": 3
   },
   "file_extension": ".py",
   "mimetype": "text/x-python",
   "name": "python",
   "nbconvert_exporter": "python",
   "pygments_lexer": "ipython3",
   "version": "3.8.3"
  }
 },
 "nbformat": 4,
 "nbformat_minor": 4
}
