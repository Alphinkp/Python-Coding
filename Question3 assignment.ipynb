{
 "cells": [
  {
   "cell_type": "code",
   "execution_count": 43,
   "metadata": {},
   "outputs": [
    {
     "name": "stdout",
     "output_type": "stream",
     "text": [
      "Enter The String= True thinkers are characterized by a blending of clearness and mystery\n",
      "the number of vowels are= 20\n",
      "The number of special characters are=  0\n",
      "The number of words = 11\n",
      "The total number of consonents= 40\n"
     ]
    }
   ],
   "source": [
    "#Name:- Alphin Thomas\n",
    "#Roll-no:- 05\n",
    "#PTA19E005 KTU-ID\n",
    "\n",
    "str=input(\"Enter The String= \")\n",
    "vowels=0\n",
    "special=0\n",
    "for i in str:\n",
    "    if i=='a' or i=='e' or i=='i' or i=='o' or i=='u' or i=='A' or i=='E' or i=='I' or i=='O' or i=='u':\n",
    "        vowels=vowels+1\n",
    "    elif i=='@':\n",
    "        vowels=vowels-1\n",
    "    elif i=='@' or i=='#' or i=='%' or i=='$':\n",
    "        special=special+1\n",
    "    \n",
    "words=len(str.split())\n",
    "white=words-1\n",
    "b=len(str)\n",
    "c=(b-white)\n",
    "a=c-vowels\n",
    "print(\"The number of Vowels are=\",vowels)\n",
    "print(\"The number of Special Characters are= \",special)\n",
    "print(\"The number of Words =\",words)\n",
    "print(\"The Total number of Consonents=\",a)\n",
    "\n",
    "#True thinkers are characterized by a blending of clearness and mystery"
   ]
  },
  {
   "cell_type": "code",
   "execution_count": null,
   "metadata": {},
   "outputs": [],
   "source": []
  },
  {
   "cell_type": "code",
   "execution_count": null,
   "metadata": {},
   "outputs": [],
   "source": []
  }
 ],
 "metadata": {
  "kernelspec": {
   "display_name": "Python 3",
   "language": "python",
   "name": "python3"
  },
  "language_info": {
   "codemirror_mode": {
    "name": "ipython",
    "version": 3
   },
   "file_extension": ".py",
   "mimetype": "text/x-python",
   "name": "python",
   "nbconvert_exporter": "python",
   "pygments_lexer": "ipython3",
   "version": "3.8.3"
  }
 },
 "nbformat": 4,
 "nbformat_minor": 4
}
