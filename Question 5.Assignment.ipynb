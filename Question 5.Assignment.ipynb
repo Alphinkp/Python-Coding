{
 "cells": [
  {
   "cell_type": "code",
   "execution_count": 31,
   "metadata": {},
   "outputs": [
    {
     "name": "stdout",
     "output_type": "stream",
     "text": [
      "Enter the limit= 6\n",
      "Enter the numbers= 27\n",
      "Enter the numbers= 24\n",
      "Enter the numbers= -8\n",
      "Enter the numbers= 2\n",
      "Enter the numbers= 30\n",
      "Enter the numbers= 16\n",
      "Sum of positive numbers 99\n",
      "Sum of negative numbers -8\n",
      "Sum of total numbers 91\n"
     ]
    }
   ],
   "source": [
    "#Name:- Alphin Thomas\n",
    "#Roll-no:- 05\n",
    "#PTA19E005 KTU-ID\n",
    "\n",
    "#inputs:- 27 24 -8 2 30 16\n",
    "#output:-  Sum of positive numbers 99   Sum of negative numbers -8  Sum of total numbers 91\n",
    "\n",
    "\n",
    "n=int(input(\"Enter the limit= \")) \n",
    "s=0\n",
    "r=0\n",
    "x=[]\n",
    "total=0\n",
    "for i in range(n):\n",
    "    a=int(input(\"Enter the numbers= \"))\n",
    "    x.append(a)\n",
    "for i in range(n):\n",
    "    if(x[i]>0):\n",
    "        s=s+x[i]\n",
    "    elif x[i]<0:\n",
    "        r=r+x[i]\n",
    "for i in range(n):\n",
    "    if x[i]:\n",
    "        total=total+x[i]\n",
    "print(\"Sum of positive numbers\",s)\n",
    "print(\"Sum of negative numbers\",r)\n",
    "print(\"Sum of total numbers\",total)"
   ]
  },
  {
   "cell_type": "code",
   "execution_count": null,
   "metadata": {},
   "outputs": [],
   "source": []
  },
  {
   "cell_type": "code",
   "execution_count": null,
   "metadata": {},
   "outputs": [],
   "source": []
  }
 ],
 "metadata": {
  "kernelspec": {
   "display_name": "Python 3",
   "language": "python",
   "name": "python3"
  },
  "language_info": {
   "codemirror_mode": {
    "name": "ipython",
    "version": 3
   },
   "file_extension": ".py",
   "mimetype": "text/x-python",
   "name": "python",
   "nbconvert_exporter": "python",
   "pygments_lexer": "ipython3",
   "version": "3.8.3"
  }
 },
 "nbformat": 4,
 "nbformat_minor": 4
}
