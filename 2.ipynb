{
 "cells": [
  {
   "cell_type": "code",
   "execution_count": 16,
   "metadata": {},
   "outputs": [
    {
     "name": "stdout",
     "output_type": "stream",
     "text": [
      "Enter The Number=05\n",
      "The result=  1034\n"
     ]
    }
   ],
   "source": [
    "#Name:- Alphin Thomas\n",
    "#Roll-no:- 05\n",
    "#PTA19E005 KTU-ID\n",
    "\n",
    "#Last digit of KTU-ID:- 05   The result=  1034\n",
    "\n",
    "\n",
    "\n",
    "\n",
    "n=int(input(\"Enter The Number=\"))\n",
    "b=(2**(2*n))+n+5\n",
    "print(\"The result= \",b)\n"
   ]
  },
  {
   "cell_type": "code",
   "execution_count": null,
   "metadata": {},
   "outputs": [],
   "source": []
  },
  {
   "cell_type": "code",
   "execution_count": null,
   "metadata": {},
   "outputs": [],
   "source": []
  }
 ],
 "metadata": {
  "kernelspec": {
   "display_name": "Python 3",
   "language": "python",
   "name": "python3"
  },
  "language_info": {
   "codemirror_mode": {
    "name": "ipython",
    "version": 3
   },
   "file_extension": ".py",
   "mimetype": "text/x-python",
   "name": "python",
   "nbconvert_exporter": "python",
   "pygments_lexer": "ipython3",
   "version": "3.8.3"
  }
 },
 "nbformat": 4,
 "nbformat_minor": 4
}
